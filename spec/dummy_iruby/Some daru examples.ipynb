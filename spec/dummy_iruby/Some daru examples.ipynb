{
 "cells": [
  {
   "cell_type": "code",
   "execution_count": 1,
   "metadata": {
    "collapsed": false
   },
   "outputs": [
    {
     "name": "stderr",
     "output_type": "stream",
     "text": [
      "\n",
      "Install the spreadsheet gem version ~>1.1.1 for using spreadsheet functions.\n",
      "\n",
      "Install the mechanize gem version ~>2.7.5 for using mechanize functions.\n"
     ]
    },
    {
     "data": {
      "text/plain": [
       "true"
      ]
     },
     "execution_count": 1,
     "metadata": {},
     "output_type": "execute_result"
    }
   ],
   "source": [
    "require 'daru'"
   ]
  },
  {
   "cell_type": "code",
   "execution_count": 2,
   "metadata": {
    "collapsed": false
   },
   "outputs": [
    {
     "data": {
      "text/html": [
       "<b> Daru::DataFrame(5x3) </b>\n",
       "<table>\n",
       "  <thead>\n",
       "  \n",
       "    <tr>\n",
       "      <th></th>\n",
       "      \n",
       "        <th>a</th>\n",
       "      \n",
       "        <th>b</th>\n",
       "      \n",
       "        <th>c</th>\n",
       "      \n",
       "    </tr>\n",
       "  \n",
       "</thead>\n",
       "  <tbody>\n",
       "  \n",
       "    <tr>\n",
       "      <td>one</td>\n",
       "      \n",
       "        <td>1</td>\n",
       "      \n",
       "        <td>11</td>\n",
       "      \n",
       "        <td>11</td>\n",
       "      \n",
       "    </tr>\n",
       "  \n",
       "    <tr>\n",
       "      <td>two</td>\n",
       "      \n",
       "        <td>2</td>\n",
       "      \n",
       "        <td>12</td>\n",
       "      \n",
       "        <td>22</td>\n",
       "      \n",
       "    </tr>\n",
       "  \n",
       "    <tr>\n",
       "      <td>three</td>\n",
       "      \n",
       "        <td>3</td>\n",
       "      \n",
       "        <td>13</td>\n",
       "      \n",
       "        <td>33</td>\n",
       "      \n",
       "    </tr>\n",
       "  \n",
       "    <tr>\n",
       "      <td>four</td>\n",
       "      \n",
       "        <td>4</td>\n",
       "      \n",
       "        <td>14</td>\n",
       "      \n",
       "        <td>44</td>\n",
       "      \n",
       "    </tr>\n",
       "  \n",
       "    <tr>\n",
       "      <td>five</td>\n",
       "      \n",
       "        <td>5</td>\n",
       "      \n",
       "        <td>15</td>\n",
       "      \n",
       "        <td>55</td>\n",
       "      \n",
       "    </tr>\n",
       "  \n",
       "\n",
       "  \n",
       "</tbody>\n",
       "</table>"
      ],
      "text/plain": [
       "#<Daru::DataFrame(5x3)>\n",
       "           a     b     c\n",
       "   one     1    11    11\n",
       "   two     2    12    22\n",
       " three     3    13    33\n",
       "  four     4    14    44\n",
       "  five     5    15    55"
      ]
     },
     "execution_count": 2,
     "metadata": {},
     "output_type": "execute_result"
    }
   ],
   "source": [
    "df = Daru::DataFrame.new({b: [11,12,13,14,15], a: [1,2,3,4,5],\n",
    "      c: [11,22,33,44,55]},\n",
    "      order: [:a, :b, :c],\n",
    "      index: [:one, :two, :three, :four, :five])"
   ]
  },
  {
   "cell_type": "code",
   "execution_count": 3,
   "metadata": {
    "collapsed": false
   },
   "outputs": [
    {
     "data": {
      "text/plain": [
       "\"<b> Daru::DataFrame(5x3) </b>\\n<table>\\n  <thead>\\n  \\n    <tr>\\n      <th></th>\\n      \\n        <th>a</th>\\n      \\n        <th>b</th>\\n      \\n        <th>c</th>\\n      \\n    </tr>\\n  \\n</thead>\\n  <tbody>\\n  \\n    <tr>\\n      <td>one</td>\\n      \\n        <td>1</td>\\n      \\n        <td>11</td>\\n      \\n        <td>11</td>\\n      \\n    </tr>\\n  \\n    <tr>\\n      <td>two</td>\\n      \\n        <td>2</td>\\n      \\n        <td>12</td>\\n      \\n        <td>22</td>\\n      \\n    </tr>\\n  \\n    <tr>\\n      <td>three</td>\\n      \\n        <td>3</td>\\n      \\n        <td>13</td>\\n      \\n        <td>33</td>\\n      \\n    </tr>\\n  \\n    <tr>\\n      <td>four</td>\\n      \\n        <td>4</td>\\n      \\n        <td>14</td>\\n      \\n        <td>44</td>\\n      \\n    </tr>\\n  \\n    <tr>\\n      <td>five</td>\\n      \\n        <td>5</td>\\n      \\n        <td>15</td>\\n      \\n        <td>55</td>\\n      \\n    </tr>\\n  \\n\\n  \\n</tbody>\\n</table>\""
      ]
     },
     "execution_count": 3,
     "metadata": {},
     "output_type": "execute_result"
    }
   ],
   "source": [
    "df.to_html"
   ]
  },
  {
   "cell_type": "code",
   "execution_count": 4,
   "metadata": {
    "collapsed": false
   },
   "outputs": [
    {
     "data": {
      "text/html": [
       "<b> Daru::Vector(5) </b>\n",
       "<table>\n",
       "  \n",
       "  \n",
       "  <tr>\n",
       "    <td>0</td>\n",
       "    <td>1</td>\n",
       "  </tr>\n",
       "\n",
       "  <tr>\n",
       "    <td>1</td>\n",
       "    <td>2</td>\n",
       "  </tr>\n",
       "\n",
       "  <tr>\n",
       "    <td>2</td>\n",
       "    <td>3</td>\n",
       "  </tr>\n",
       "\n",
       "  <tr>\n",
       "    <td>3</td>\n",
       "    <td>4</td>\n",
       "  </tr>\n",
       "\n",
       "  <tr>\n",
       "    <td>4</td>\n",
       "    <td>5</td>\n",
       "  </tr>\n",
       "\n",
       "\n",
       "\n",
       "</table>"
      ],
      "text/plain": [
       "#<Daru::Vector(5)>\n",
       "   0   1\n",
       "   1   2\n",
       "   2   3\n",
       "   3   4\n",
       "   4   5"
      ]
     },
     "execution_count": 4,
     "metadata": {},
     "output_type": "execute_result"
    }
   ],
   "source": [
    "a = Daru::Vector.new([1,2,3,4,5])"
   ]
  },
  {
   "cell_type": "code",
   "execution_count": 5,
   "metadata": {
    "collapsed": false
   },
   "outputs": [
    {
     "data": {
      "text/plain": [
       "\"<b> Daru::Vector(5) </b>\\n<table>\\n  \\n  \\n  <tr>\\n    <td>0</td>\\n    <td>1</td>\\n  </tr>\\n\\n  <tr>\\n    <td>1</td>\\n    <td>2</td>\\n  </tr>\\n\\n  <tr>\\n    <td>2</td>\\n    <td>3</td>\\n  </tr>\\n\\n  <tr>\\n    <td>3</td>\\n    <td>4</td>\\n  </tr>\\n\\n  <tr>\\n    <td>4</td>\\n    <td>5</td>\\n  </tr>\\n\\n\\n\\n</table>\""
      ]
     },
     "execution_count": 5,
     "metadata": {},
     "output_type": "execute_result"
    }
   ],
   "source": [
    "a.to_html"
   ]
  },
  {
   "cell_type": "code",
   "execution_count": 6,
   "metadata": {
    "collapsed": false
   },
   "outputs": [
    {
     "data": {
      "text/plain": [
       "\"\""
      ]
     },
     "execution_count": 6,
     "metadata": {},
     "output_type": "execute_result"
    }
   ],
   "source": [
    "a.to_html_thead"
   ]
  },
  {
   "cell_type": "code",
   "execution_count": 7,
   "metadata": {
    "collapsed": false
   },
   "outputs": [
    {
     "data": {
      "text/plain": [
       "\"\\n  <tr>\\n    <td>0</td>\\n    <td>1</td>\\n  </tr>\\n\\n  <tr>\\n    <td>1</td>\\n    <td>2</td>\\n  </tr>\\n\\n  <tr>\\n    <td>2</td>\\n    <td>3</td>\\n  </tr>\\n\\n  <tr>\\n    <td>3</td>\\n    <td>4</td>\\n  </tr>\\n\\n  <tr>\\n    <td>4</td>\\n    <td>5</td>\\n  </tr>\\n\\n\\n\""
      ]
     },
     "execution_count": 7,
     "metadata": {},
     "output_type": "execute_result"
    }
   ],
   "source": [
    "a.to_html_tbody"
   ]
  },
  {
   "cell_type": "code",
   "execution_count": 8,
   "metadata": {
    "collapsed": false
   },
   "outputs": [
    {
     "data": {
      "text/html": [
       "<table>\n",
       "  <tr>\n",
       "    <th colspan=\"3\">Daru::MultiIndex(4x3)</th>\n",
       "  </tr>\n",
       "  \n",
       "    <tr>\n",
       "      \n",
       "        <th rowspan=\"2\">a</th>\n",
       "      \n",
       "        <th rowspan=\"1\">one</th>\n",
       "      \n",
       "        <th rowspan=\"1\">foo</th>\n",
       "      \n",
       "    </tr>\n",
       "  \n",
       "    <tr>\n",
       "      \n",
       "        <th rowspan=\"1\">two</th>\n",
       "      \n",
       "        <th rowspan=\"1\">bar</th>\n",
       "      \n",
       "    </tr>\n",
       "  \n",
       "    <tr>\n",
       "      \n",
       "        <th rowspan=\"2\">b</th>\n",
       "      \n",
       "        <th rowspan=\"1\">one</th>\n",
       "      \n",
       "        <th rowspan=\"1\">bar</th>\n",
       "      \n",
       "    </tr>\n",
       "  \n",
       "    <tr>\n",
       "      \n",
       "        <th rowspan=\"1\">two</th>\n",
       "      \n",
       "        <th rowspan=\"1\">baz</th>\n",
       "      \n",
       "    </tr>\n",
       "  \n",
       "</table>"
      ],
      "text/plain": [
       "#<Daru::MultiIndex(4x3)>\n",
       "   a one foo\n",
       "     two bar\n",
       "   b one bar\n",
       "     two baz"
      ]
     },
     "execution_count": 8,
     "metadata": {},
     "output_type": "execute_result"
    }
   ],
   "source": [
    "tuples = [\n",
    "            [:a, :one, :foo],\n",
    "            [:a, :two, :bar],\n",
    "            [:b, :one, :bar],\n",
    "            [:b, :two, :baz]\n",
    "          ]\n",
    "\n",
    "multi_index = Daru::MultiIndex.from_tuples(tuples)"
   ]
  },
  {
   "cell_type": "code",
   "execution_count": 10,
   "metadata": {
    "collapsed": false
   },
   "outputs": [
    {
     "data": {
      "text/html": [
       "<b> Daru::Vector(4) </b>\n",
       "<table>\n",
       "  \n",
       "  <tr>\n",
       "      <th colspan=\"3\"> </th>\n",
       "      <th>mi</th>\n",
       "  </tr>\n",
       "\n",
       "  \n",
       "  <tr>\n",
       "    \n",
       "      <th rowspan=\"2\">a</th>\n",
       "    \n",
       "      <th rowspan=\"1\">one</th>\n",
       "    \n",
       "      <th rowspan=\"1\">foo</th>\n",
       "    \n",
       "    <td>1</td>\n",
       "  </tr>\n",
       "\n",
       "  <tr>\n",
       "    \n",
       "      <th rowspan=\"1\">two</th>\n",
       "    \n",
       "      <th rowspan=\"1\">bar</th>\n",
       "    \n",
       "    <td>2</td>\n",
       "  </tr>\n",
       "\n",
       "  <tr>\n",
       "    \n",
       "      <th rowspan=\"2\">b</th>\n",
       "    \n",
       "      <th rowspan=\"1\">one</th>\n",
       "    \n",
       "      <th rowspan=\"1\">bar</th>\n",
       "    \n",
       "    <td>3</td>\n",
       "  </tr>\n",
       "\n",
       "  <tr>\n",
       "    \n",
       "      <th rowspan=\"1\">two</th>\n",
       "    \n",
       "      <th rowspan=\"1\">baz</th>\n",
       "    \n",
       "    <td>4</td>\n",
       "  </tr>\n",
       "\n",
       "\n",
       "\n",
       "</table>"
      ],
      "text/plain": [
       "#<Daru::Vector(4)>\n",
       "              mi\n",
       "   a one foo   1\n",
       "     two bar   2\n",
       "   b one bar   3\n",
       "     two baz   4"
      ]
     },
     "execution_count": 10,
     "metadata": {},
     "output_type": "execute_result"
    }
   ],
   "source": [
    "vec_mi = Daru::Vector.new [1,2,3,4], name: :mi, index: multi_index\n"
   ]
  },
  {
   "cell_type": "code",
   "execution_count": 11,
   "metadata": {
    "collapsed": false
   },
   "outputs": [
    {
     "data": {
      "text/plain": [
       "\"<b> Daru::Vector(4) </b>\\n<table>\\n  \\n  <tr>\\n      <th colspan=\\\"3\\\"> </th>\\n      <th>mi</th>\\n  </tr>\\n\\n  \\n  <tr>\\n    \\n      <th rowspan=\\\"2\\\">a</th>\\n    \\n      <th rowspan=\\\"1\\\">one</th>\\n    \\n      <th rowspan=\\\"1\\\">foo</th>\\n    \\n    <td>1</td>\\n  </tr>\\n\\n  <tr>\\n    \\n      <th rowspan=\\\"1\\\">two</th>\\n    \\n      <th rowspan=\\\"1\\\">bar</th>\\n    \\n    <td>2</td>\\n  </tr>\\n\\n  <tr>\\n    \\n      <th rowspan=\\\"2\\\">b</th>\\n    \\n      <th rowspan=\\\"1\\\">one</th>\\n    \\n      <th rowspan=\\\"1\\\">bar</th>\\n    \\n    <td>3</td>\\n  </tr>\\n\\n  <tr>\\n    \\n      <th rowspan=\\\"1\\\">two</th>\\n    \\n      <th rowspan=\\\"1\\\">baz</th>\\n    \\n    <td>4</td>\\n  </tr>\\n\\n\\n\\n</table>\""
      ]
     },
     "execution_count": 11,
     "metadata": {},
     "output_type": "execute_result"
    }
   ],
   "source": [
    "vec_mi.to_html"
   ]
  },
  {
   "cell_type": "code",
   "execution_count": 12,
   "metadata": {
    "collapsed": false
   },
   "outputs": [
    {
     "data": {
      "text/plain": [
       "\"\\n  <tr>\\n    \\n      <th rowspan=\\\"2\\\">a</th>\\n    \\n      <th rowspan=\\\"1\\\">one</th>\\n    \\n      <th rowspan=\\\"1\\\">foo</th>\\n    \\n    <td>1</td>\\n  </tr>\\n\\n  <tr>\\n    \\n      <th rowspan=\\\"1\\\">two</th>\\n    \\n      <th rowspan=\\\"1\\\">bar</th>\\n    \\n    <td>2</td>\\n  </tr>\\n\\n  <tr>\\n    \\n      <th rowspan=\\\"2\\\">b</th>\\n    \\n      <th rowspan=\\\"1\\\">one</th>\\n    \\n      <th rowspan=\\\"1\\\">bar</th>\\n    \\n    <td>3</td>\\n  </tr>\\n\\n  <tr>\\n    \\n      <th rowspan=\\\"1\\\">two</th>\\n    \\n      <th rowspan=\\\"1\\\">baz</th>\\n    \\n    <td>4</td>\\n  </tr>\\n\\n\\n\""
      ]
     },
     "execution_count": 12,
     "metadata": {},
     "output_type": "execute_result"
    }
   ],
   "source": [
    "vec_mi.to_html_tbody"
   ]
  },
  {
   "cell_type": "code",
   "execution_count": 13,
   "metadata": {
    "collapsed": false
   },
   "outputs": [
    {
     "data": {
      "text/plain": [
       "\"\\n  <tr>\\n      <th colspan=\\\"3\\\"> </th>\\n      <th>mi</th>\\n  </tr>\\n\""
      ]
     },
     "execution_count": 13,
     "metadata": {},
     "output_type": "execute_result"
    }
   ],
   "source": [
    "vec_mi.to_html_thead"
   ]
  },
  {
   "cell_type": "code",
   "execution_count": null,
   "metadata": {
    "collapsed": true
   },
   "outputs": [],
   "source": []
  }
 ],
 "metadata": {
  "kernelspec": {
   "display_name": "Ruby 2.3.1",
   "language": "ruby",
   "name": "ruby"
  },
  "language_info": {
   "file_extension": ".rb",
   "mimetype": "application/x-ruby",
   "name": "ruby",
   "version": "2.3.1"
  }
 },
 "nbformat": 4,
 "nbformat_minor": 2
}
